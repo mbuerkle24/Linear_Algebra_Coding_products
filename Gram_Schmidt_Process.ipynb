{
  "nbformat": 4,
  "nbformat_minor": 0,
  "metadata": {
    "colab": {
      "name": "Gram Schmidt Process.ipynb",
      "provenance": [],
      "collapsed_sections": [],
      "authorship_tag": "ABX9TyMQ9dvl7Kd7TWCr2k6aVHs2",
      "include_colab_link": true
    },
    "kernelspec": {
      "name": "python3",
      "display_name": "Python 3"
    },
    "language_info": {
      "name": "python"
    }
  },
  "cells": [
    {
      "cell_type": "markdown",
      "metadata": {
        "id": "view-in-github",
        "colab_type": "text"
      },
      "source": [
        "<a href=\"https://colab.research.google.com/github/mbuerkle24/Linear_Algebra_Coding_products/blob/main/Gram_Schmidt_Process.ipynb\" target=\"_parent\"><img src=\"https://colab.research.google.com/assets/colab-badge.svg\" alt=\"Open In Colab\"/></a>"
      ]
    },
    {
      "cell_type": "code",
      "execution_count": 3,
      "metadata": {
        "id": "qmJXzWN-PxWa"
      },
      "outputs": [],
      "source": [
        "import numpy as np\n",
        "from numpy import c_"
      ]
    },
    {
      "cell_type": "code",
      "source": [
        "# write vectors:\n",
        "r1 = np.array([3, 6, 0])\n",
        "r1\n",
        "# dot product of r1 with itself:\n",
        "r1.dot(r1)"
      ],
      "metadata": {
        "colab": {
          "base_uri": "https://localhost:8080/"
        },
        "id": "d8DtOv-gQVwQ",
        "outputId": "06110db0-c22a-438b-d6e6-e28596bccd38"
      },
      "execution_count": 12,
      "outputs": [
        {
          "output_type": "execute_result",
          "data": {
            "text/plain": [
              "45"
            ]
          },
          "metadata": {},
          "execution_count": 12
        }
      ]
    },
    {
      "cell_type": "code",
      "source": [
        "np.sqrt(45)"
      ],
      "metadata": {
        "colab": {
          "base_uri": "https://localhost:8080/"
        },
        "id": "hh2uv6WsSTo-",
        "outputId": "619390f1-4a2b-43dc-d52a-54d2dcd041b4"
      },
      "execution_count": 13,
      "outputs": [
        {
          "output_type": "execute_result",
          "data": {
            "text/plain": [
              "6.708203932499369"
            ]
          },
          "metadata": {},
          "execution_count": 13
        }
      ]
    },
    {
      "cell_type": "code",
      "source": [
        "print(\"this is the square root of 45:\", np.sqrt(45))"
      ],
      "metadata": {
        "colab": {
          "base_uri": "https://localhost:8080/"
        },
        "id": "HQ3xfZ4VSkCC",
        "outputId": "096dfd11-9db5-4643-8eab-1f092482d6e2"
      },
      "execution_count": 14,
      "outputs": [
        {
          "output_type": "stream",
          "name": "stdout",
          "text": [
            "this is the square root of 45: 6.708203932499369\n"
          ]
        }
      ]
    },
    {
      "cell_type": "code",
      "source": [
        "# Gram-Schmidt process using the first vector [6, 2, 0]\n",
        "r2 = np.array([6, 2, 0])\n",
        "print(\"Our 2nd messy vector is\", r2)\n",
        "# Temporary vector T2\n",
        "T2 = r2 - (r2.dot(u1) )*u1\n",
        "print(\"Our T2 vector is\", T2)\n",
        "# Find the magnitude of T2\n",
        "n2 = np.sqrt(T2.dot(T2))\n",
        "print(\"The size of T2 is |T2| = \", n2)\n",
        "# renormalize, and create u2:\n",
        "u2 = (1/n2)*T2\n",
        "print(\"u2 = \", u2)"
      ],
      "metadata": {
        "colab": {
          "base_uri": "https://localhost:8080/"
        },
        "id": "Ux_yT_6SSzcg",
        "outputId": "2a023c68-af51-4944-e3d0-cab27582608f"
      },
      "execution_count": 27,
      "outputs": [
        {
          "output_type": "stream",
          "name": "stdout",
          "text": [
            "Our 2nd messy vector is [6 2 0]\n",
            "Our T2 vector is [ 4. -2.  0.]\n",
            "The size of T2 is |T2| =  4.47213595499958\n",
            "u2 =  [ 0.89442719 -0.4472136   0.        ]\n"
          ]
        }
      ]
    },
    {
      "cell_type": "code",
      "source": [
        "# Gram-Schmidt process using the first vector [-4, 2, 0]\n",
        "r3 = np.array([-4, 2, 0])\n",
        "print(\"Our 3rd messy vector is\", r3)\n",
        "# Temporary vector T3\n",
        "T3 = r3 - (r3.dot(u1) )*u1 - (r3.dot(u2) )*u2\n",
        "print(\"Our T3 vector is\", T3)\n",
        "# Find the magnitude of T3\n",
        "n3 = np.sqrt(T3.dot(T3))\n",
        "print(\"The size of T3 is |T3| = \", n3)\n",
        "# renormalize, and create u3:\n",
        "u3 = (1/n3)*T3\n",
        "print(\"u3 = \", u3)"
      ],
      "metadata": {
        "colab": {
          "base_uri": "https://localhost:8080/"
        },
        "id": "9Jlr_NVbWSZ0",
        "outputId": "31af147e-c145-4f71-a3e3-d1884ca9ac6a"
      },
      "execution_count": 32,
      "outputs": [
        {
          "output_type": "stream",
          "name": "stdout",
          "text": [
            "Our 3rd messy vector is [-4  2  0]\n",
            "Our T3 vector is [-4.4408921e-16 -8.8817842e-16  0.0000000e+00]\n",
            "The size of T3 is |T3| =  9.930136612989092e-16\n",
            "u3 =  [-0.4472136  -0.89442719  0.        ]\n"
          ]
        }
      ]
    },
    {
      "cell_type": "code",
      "source": [
        "# Gram-Schmidt process using the first vector [3, -4, 3]\n",
        "r4 = np.array([3, -4, 3])\n",
        "print(\"Our 4th messy vector is\", r4)\n",
        "# Temporary vector T4\n",
        "T4 = r4 - (r4.dot(u1) )*u1 - (r4.dot(u2) )*u2 \n",
        "print(\"Our T4 vector is\", T4)\n",
        "# Find the magnitude of T4\n",
        "n4 = np.sqrt(T4.dot(T4))\n",
        "print(\"The size of T4 is |T4| = \", n4)\n",
        "# renormalize, and create u4:\n",
        "u4 = (1/n4)*T4\n",
        "print(\"u4 = \", u4)"
      ],
      "metadata": {
        "colab": {
          "base_uri": "https://localhost:8080/"
        },
        "id": "JF2N45jeYIyP",
        "outputId": "4dccc6d5-a1c0-4aaf-cc56-a9b790c21854"
      },
      "execution_count": 34,
      "outputs": [
        {
          "output_type": "stream",
          "name": "stdout",
          "text": [
            "Our 4th messy vector is [ 3 -4  3]\n",
            "Our T4 vector is [4.44089210e-16 1.33226763e-15 3.00000000e+00]\n",
            "The size of T4 is |T4| =  3.0\n",
            "u4 =  [1.48029737e-16 4.44089210e-16 1.00000000e+00]\n"
          ]
        }
      ]
    },
    {
      "cell_type": "code",
      "source": [
        ""
      ],
      "metadata": {
        "id": "UqMl6p2laCNY"
      },
      "execution_count": null,
      "outputs": []
    }
  ]
}